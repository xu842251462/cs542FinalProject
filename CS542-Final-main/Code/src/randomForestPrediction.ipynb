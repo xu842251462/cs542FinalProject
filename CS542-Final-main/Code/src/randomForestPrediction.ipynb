{
 "cells": [
  {
   "cell_type": "code",
   "execution_count": 107,
   "id": "ideal-investor",
   "metadata": {},
   "outputs": [],
   "source": [
    "# Make needed imports\n",
    "import pandas as pd\n",
    "import numpy as np\n",
    "import sns as sns\n",
    "from sklearn import tree\n",
    "from sklearn.ensemble import RandomForestRegressor\n",
    "from sklearn.metrics import r2_score,mean_squared_error\n",
    "from sklearn.tree import export_graphviz\n",
    "from matplotlib import pyplot as plt"
   ]
  },
  {
   "cell_type": "code",
   "execution_count": 108,
   "id": "naked-window",
   "metadata": {},
   "outputs": [
    {
     "data": {
      "text/plain": "      0     1    2   3     4          5   6     7     8    9   10    11  12  \\\n2   2013  59.9  268  66  0.01  73.219243  64   430  18.1   89  62  8.13  64   \n7   2008  58.1  287  80  0.03  25.873925  64  1599  15.7  110  64  8.33  64   \n9   2006  57.3  295  84  0.03  17.171518  64  1990  14.7  116  58  7.43  58   \n8   2007  57.5  295  82  0.02  10.910156  63  1141  15.2  113  63  6.73  63   \n10  2005  57.3  291  85  0.02   1.388648  66  1296  14.2  118  58  8.70  58   \n..   ...   ...  ...  ..   ...        ...  ..   ...   ...  ...  ..   ...  ..   \n4   2010  52.4  527  29  5.21  53.308581   9  9696  29.4   44  89  5.37  89   \n1   2013  58.0  399  25  6.39  10.666707  95     0   3.8   36  95  6.88  95   \n11  2003  44.5  715  26  4.06   0.000000   7   998  26.7   41   7  6.52  68   \n14  2000  46.0  665  24  1.68   0.000000  79  1483  25.5   39  78  7.10  78   \n0   2014  59.2  371  23  6.50  10.822595  91     0  31.3   34  92  6.44  91   \n\n      13          14          15    16    17     18    19  \n2    0.1  631.744976  31731688.0  17.7  17.7  0.470   9.9  \n7    0.1  373.361116   2729431.0  18.8  18.9  0.433   8.7  \n9    0.1  272.563770   2589345.0  19.2  19.3  0.405   8.1  \n8    0.1  369.835796  26616792.0  19.0  19.1  0.415   8.4  \n10   0.1   25.294130    257798.0  19.3  19.5  0.396   7.9  \n..   ...         ...         ...   ...   ...    ...   ...  \n4   15.7  713.635620   1486317.0   7.1   7.0  0.436  10.0  \n1    6.8  111.227396    155456.0   6.2   6.0  0.488  10.4  \n11  36.7  453.351155  12633897.0   9.8   9.9  0.418   9.5  \n14  43.5  547.358878  12222251.0  11.0  11.2  0.434   9.8  \n0    6.3  127.474620  15411675.0   5.9   5.7  0.498  10.3  \n\n[1286 rows x 20 columns]",
      "text/html": "<div>\n<style scoped>\n    .dataframe tbody tr th:only-of-type {\n        vertical-align: middle;\n    }\n\n    .dataframe tbody tr th {\n        vertical-align: top;\n    }\n\n    .dataframe thead th {\n        text-align: right;\n    }\n</style>\n<table border=\"1\" class=\"dataframe\">\n  <thead>\n    <tr style=\"text-align: right;\">\n      <th></th>\n      <th>0</th>\n      <th>1</th>\n      <th>2</th>\n      <th>3</th>\n      <th>4</th>\n      <th>5</th>\n      <th>6</th>\n      <th>7</th>\n      <th>8</th>\n      <th>9</th>\n      <th>10</th>\n      <th>11</th>\n      <th>12</th>\n      <th>13</th>\n      <th>14</th>\n      <th>15</th>\n      <th>16</th>\n      <th>17</th>\n      <th>18</th>\n      <th>19</th>\n    </tr>\n  </thead>\n  <tbody>\n    <tr>\n      <th>2</th>\n      <td>2013</td>\n      <td>59.9</td>\n      <td>268</td>\n      <td>66</td>\n      <td>0.01</td>\n      <td>73.219243</td>\n      <td>64</td>\n      <td>430</td>\n      <td>18.1</td>\n      <td>89</td>\n      <td>62</td>\n      <td>8.13</td>\n      <td>64</td>\n      <td>0.1</td>\n      <td>631.744976</td>\n      <td>31731688.0</td>\n      <td>17.7</td>\n      <td>17.7</td>\n      <td>0.470</td>\n      <td>9.9</td>\n    </tr>\n    <tr>\n      <th>7</th>\n      <td>2008</td>\n      <td>58.1</td>\n      <td>287</td>\n      <td>80</td>\n      <td>0.03</td>\n      <td>25.873925</td>\n      <td>64</td>\n      <td>1599</td>\n      <td>15.7</td>\n      <td>110</td>\n      <td>64</td>\n      <td>8.33</td>\n      <td>64</td>\n      <td>0.1</td>\n      <td>373.361116</td>\n      <td>2729431.0</td>\n      <td>18.8</td>\n      <td>18.9</td>\n      <td>0.433</td>\n      <td>8.7</td>\n    </tr>\n    <tr>\n      <th>9</th>\n      <td>2006</td>\n      <td>57.3</td>\n      <td>295</td>\n      <td>84</td>\n      <td>0.03</td>\n      <td>17.171518</td>\n      <td>64</td>\n      <td>1990</td>\n      <td>14.7</td>\n      <td>116</td>\n      <td>58</td>\n      <td>7.43</td>\n      <td>58</td>\n      <td>0.1</td>\n      <td>272.563770</td>\n      <td>2589345.0</td>\n      <td>19.2</td>\n      <td>19.3</td>\n      <td>0.405</td>\n      <td>8.1</td>\n    </tr>\n    <tr>\n      <th>8</th>\n      <td>2007</td>\n      <td>57.5</td>\n      <td>295</td>\n      <td>82</td>\n      <td>0.02</td>\n      <td>10.910156</td>\n      <td>63</td>\n      <td>1141</td>\n      <td>15.2</td>\n      <td>113</td>\n      <td>63</td>\n      <td>6.73</td>\n      <td>63</td>\n      <td>0.1</td>\n      <td>369.835796</td>\n      <td>26616792.0</td>\n      <td>19.0</td>\n      <td>19.1</td>\n      <td>0.415</td>\n      <td>8.4</td>\n    </tr>\n    <tr>\n      <th>10</th>\n      <td>2005</td>\n      <td>57.3</td>\n      <td>291</td>\n      <td>85</td>\n      <td>0.02</td>\n      <td>1.388648</td>\n      <td>66</td>\n      <td>1296</td>\n      <td>14.2</td>\n      <td>118</td>\n      <td>58</td>\n      <td>8.70</td>\n      <td>58</td>\n      <td>0.1</td>\n      <td>25.294130</td>\n      <td>257798.0</td>\n      <td>19.3</td>\n      <td>19.5</td>\n      <td>0.396</td>\n      <td>7.9</td>\n    </tr>\n    <tr>\n      <th>...</th>\n      <td>...</td>\n      <td>...</td>\n      <td>...</td>\n      <td>...</td>\n      <td>...</td>\n      <td>...</td>\n      <td>...</td>\n      <td>...</td>\n      <td>...</td>\n      <td>...</td>\n      <td>...</td>\n      <td>...</td>\n      <td>...</td>\n      <td>...</td>\n      <td>...</td>\n      <td>...</td>\n      <td>...</td>\n      <td>...</td>\n      <td>...</td>\n      <td>...</td>\n    </tr>\n    <tr>\n      <th>4</th>\n      <td>2010</td>\n      <td>52.4</td>\n      <td>527</td>\n      <td>29</td>\n      <td>5.21</td>\n      <td>53.308581</td>\n      <td>9</td>\n      <td>9696</td>\n      <td>29.4</td>\n      <td>44</td>\n      <td>89</td>\n      <td>5.37</td>\n      <td>89</td>\n      <td>15.7</td>\n      <td>713.635620</td>\n      <td>1486317.0</td>\n      <td>7.1</td>\n      <td>7.0</td>\n      <td>0.436</td>\n      <td>10.0</td>\n    </tr>\n    <tr>\n      <th>1</th>\n      <td>2013</td>\n      <td>58.0</td>\n      <td>399</td>\n      <td>25</td>\n      <td>6.39</td>\n      <td>10.666707</td>\n      <td>95</td>\n      <td>0</td>\n      <td>3.8</td>\n      <td>36</td>\n      <td>95</td>\n      <td>6.88</td>\n      <td>95</td>\n      <td>6.8</td>\n      <td>111.227396</td>\n      <td>155456.0</td>\n      <td>6.2</td>\n      <td>6.0</td>\n      <td>0.488</td>\n      <td>10.4</td>\n    </tr>\n    <tr>\n      <th>11</th>\n      <td>2003</td>\n      <td>44.5</td>\n      <td>715</td>\n      <td>26</td>\n      <td>4.06</td>\n      <td>0.000000</td>\n      <td>7</td>\n      <td>998</td>\n      <td>26.7</td>\n      <td>41</td>\n      <td>7</td>\n      <td>6.52</td>\n      <td>68</td>\n      <td>36.7</td>\n      <td>453.351155</td>\n      <td>12633897.0</td>\n      <td>9.8</td>\n      <td>9.9</td>\n      <td>0.418</td>\n      <td>9.5</td>\n    </tr>\n    <tr>\n      <th>14</th>\n      <td>2000</td>\n      <td>46.0</td>\n      <td>665</td>\n      <td>24</td>\n      <td>1.68</td>\n      <td>0.000000</td>\n      <td>79</td>\n      <td>1483</td>\n      <td>25.5</td>\n      <td>39</td>\n      <td>78</td>\n      <td>7.10</td>\n      <td>78</td>\n      <td>43.5</td>\n      <td>547.358878</td>\n      <td>12222251.0</td>\n      <td>11.0</td>\n      <td>11.2</td>\n      <td>0.434</td>\n      <td>9.8</td>\n    </tr>\n    <tr>\n      <th>0</th>\n      <td>2014</td>\n      <td>59.2</td>\n      <td>371</td>\n      <td>23</td>\n      <td>6.50</td>\n      <td>10.822595</td>\n      <td>91</td>\n      <td>0</td>\n      <td>31.3</td>\n      <td>34</td>\n      <td>92</td>\n      <td>6.44</td>\n      <td>91</td>\n      <td>6.3</td>\n      <td>127.474620</td>\n      <td>15411675.0</td>\n      <td>5.9</td>\n      <td>5.7</td>\n      <td>0.498</td>\n      <td>10.3</td>\n    </tr>\n  </tbody>\n</table>\n<p>1286 rows × 20 columns</p>\n</div>"
     },
     "execution_count": 108,
     "metadata": {},
     "output_type": "execute_result"
    }
   ],
   "source": [
    "# Load train and testing data\n",
    "training_data = pd.read_pickle(\"../data/train.pkl\")\n",
    "testing_data = pd.read_pickle(\"../data/test.pkl\")\n",
    "training_data"
   ]
  },
  {
   "cell_type": "code",
   "execution_count": 109,
   "id": "692ae868",
   "metadata": {
    "pycharm": {
     "name": "#%%\n"
    }
   },
   "outputs": [
    {
     "data": {
      "text/plain": "      0     1    2   3     4          5   6     7     8    9   10    11  12  \\\n14  2001  55.3  316  88  0.01  10.574728  63  8762  12.6  122  35  7.80  33   \n12  2003  56.7  295  87  0.01  11.089053  65   798  13.4  122  41  8.82  41   \n13  2002  56.2    3  88  0.01  16.887351  64  2486  13.0  122  36  7.76  36   \n3   2012  59.5  272  69  0.01  78.184215  67  2787  17.6   93  67  8.52  67   \n14  2001  73.6   14   1  4.25  96.205571  96    18  46.0    1  97  6.00  97   \n..   ...   ...  ...  ..   ...        ...  ..   ...   ...  ...  ..   ...  ..   \n7   2007  52.6  487  32  2.08  10.851482   8   535  19.2   51  77  4.37   8   \n8   2006  58.0  526  33  2.25   1.860004  81   459  18.8   52  83  6.11  81   \n13  2001  45.3  686  25  1.72   0.000000  76   529  25.9   39  76  6.16  75   \n12  2002  44.8   73  25  4.43   0.000000  73   304  26.3   40  73  6.53  71   \n10  2004  44.3  723  27  4.36   0.000000  68    31  27.1   42  67  7.13  65   \n\n      13           14          15    16    17     18    19  \n14   0.1   117.496980   2966463.0   2.1   2.4  0.340   5.9  \n12   0.1   198.728544   2364851.0  19.7  19.9  0.373   6.5  \n13   0.1   187.845950  21979923.0  19.9   2.2  0.341   6.2  \n3    0.1   669.959000   3696958.0  17.9  18.0  0.463   9.8  \n14   0.1  1326.973390     36173.0   2.1   2.1  0.662  10.6  \n..   ...          ...         ...   ...   ...    ...   ...  \n7   13.6   114.587985  12725974.0   6.9   6.8  0.492  11.1  \n8   15.9    13.154199  12383446.0   7.0   6.9  0.479  10.9  \n13  42.1   548.587312  12366165.0   1.6   1.7  0.427   9.8  \n12  39.8    57.348340    125525.0   1.2   1.3  0.427  10.0  \n10  33.6   454.366654  12777511.0   9.4   9.4  0.407   9.2  \n\n[362 rows x 20 columns]",
      "text/html": "<div>\n<style scoped>\n    .dataframe tbody tr th:only-of-type {\n        vertical-align: middle;\n    }\n\n    .dataframe tbody tr th {\n        vertical-align: top;\n    }\n\n    .dataframe thead th {\n        text-align: right;\n    }\n</style>\n<table border=\"1\" class=\"dataframe\">\n  <thead>\n    <tr style=\"text-align: right;\">\n      <th></th>\n      <th>0</th>\n      <th>1</th>\n      <th>2</th>\n      <th>3</th>\n      <th>4</th>\n      <th>5</th>\n      <th>6</th>\n      <th>7</th>\n      <th>8</th>\n      <th>9</th>\n      <th>10</th>\n      <th>11</th>\n      <th>12</th>\n      <th>13</th>\n      <th>14</th>\n      <th>15</th>\n      <th>16</th>\n      <th>17</th>\n      <th>18</th>\n      <th>19</th>\n    </tr>\n  </thead>\n  <tbody>\n    <tr>\n      <th>14</th>\n      <td>2001</td>\n      <td>55.3</td>\n      <td>316</td>\n      <td>88</td>\n      <td>0.01</td>\n      <td>10.574728</td>\n      <td>63</td>\n      <td>8762</td>\n      <td>12.6</td>\n      <td>122</td>\n      <td>35</td>\n      <td>7.80</td>\n      <td>33</td>\n      <td>0.1</td>\n      <td>117.496980</td>\n      <td>2966463.0</td>\n      <td>2.1</td>\n      <td>2.4</td>\n      <td>0.340</td>\n      <td>5.9</td>\n    </tr>\n    <tr>\n      <th>12</th>\n      <td>2003</td>\n      <td>56.7</td>\n      <td>295</td>\n      <td>87</td>\n      <td>0.01</td>\n      <td>11.089053</td>\n      <td>65</td>\n      <td>798</td>\n      <td>13.4</td>\n      <td>122</td>\n      <td>41</td>\n      <td>8.82</td>\n      <td>41</td>\n      <td>0.1</td>\n      <td>198.728544</td>\n      <td>2364851.0</td>\n      <td>19.7</td>\n      <td>19.9</td>\n      <td>0.373</td>\n      <td>6.5</td>\n    </tr>\n    <tr>\n      <th>13</th>\n      <td>2002</td>\n      <td>56.2</td>\n      <td>3</td>\n      <td>88</td>\n      <td>0.01</td>\n      <td>16.887351</td>\n      <td>64</td>\n      <td>2486</td>\n      <td>13.0</td>\n      <td>122</td>\n      <td>36</td>\n      <td>7.76</td>\n      <td>36</td>\n      <td>0.1</td>\n      <td>187.845950</td>\n      <td>21979923.0</td>\n      <td>19.9</td>\n      <td>2.2</td>\n      <td>0.341</td>\n      <td>6.2</td>\n    </tr>\n    <tr>\n      <th>3</th>\n      <td>2012</td>\n      <td>59.5</td>\n      <td>272</td>\n      <td>69</td>\n      <td>0.01</td>\n      <td>78.184215</td>\n      <td>67</td>\n      <td>2787</td>\n      <td>17.6</td>\n      <td>93</td>\n      <td>67</td>\n      <td>8.52</td>\n      <td>67</td>\n      <td>0.1</td>\n      <td>669.959000</td>\n      <td>3696958.0</td>\n      <td>17.9</td>\n      <td>18.0</td>\n      <td>0.463</td>\n      <td>9.8</td>\n    </tr>\n    <tr>\n      <th>14</th>\n      <td>2001</td>\n      <td>73.6</td>\n      <td>14</td>\n      <td>1</td>\n      <td>4.25</td>\n      <td>96.205571</td>\n      <td>96</td>\n      <td>18</td>\n      <td>46.0</td>\n      <td>1</td>\n      <td>97</td>\n      <td>6.00</td>\n      <td>97</td>\n      <td>0.1</td>\n      <td>1326.973390</td>\n      <td>36173.0</td>\n      <td>2.1</td>\n      <td>2.1</td>\n      <td>0.662</td>\n      <td>10.6</td>\n    </tr>\n    <tr>\n      <th>...</th>\n      <td>...</td>\n      <td>...</td>\n      <td>...</td>\n      <td>...</td>\n      <td>...</td>\n      <td>...</td>\n      <td>...</td>\n      <td>...</td>\n      <td>...</td>\n      <td>...</td>\n      <td>...</td>\n      <td>...</td>\n      <td>...</td>\n      <td>...</td>\n      <td>...</td>\n      <td>...</td>\n      <td>...</td>\n      <td>...</td>\n      <td>...</td>\n      <td>...</td>\n    </tr>\n    <tr>\n      <th>7</th>\n      <td>2007</td>\n      <td>52.6</td>\n      <td>487</td>\n      <td>32</td>\n      <td>2.08</td>\n      <td>10.851482</td>\n      <td>8</td>\n      <td>535</td>\n      <td>19.2</td>\n      <td>51</td>\n      <td>77</td>\n      <td>4.37</td>\n      <td>8</td>\n      <td>13.6</td>\n      <td>114.587985</td>\n      <td>12725974.0</td>\n      <td>6.9</td>\n      <td>6.8</td>\n      <td>0.492</td>\n      <td>11.1</td>\n    </tr>\n    <tr>\n      <th>8</th>\n      <td>2006</td>\n      <td>58.0</td>\n      <td>526</td>\n      <td>33</td>\n      <td>2.25</td>\n      <td>1.860004</td>\n      <td>81</td>\n      <td>459</td>\n      <td>18.8</td>\n      <td>52</td>\n      <td>83</td>\n      <td>6.11</td>\n      <td>81</td>\n      <td>15.9</td>\n      <td>13.154199</td>\n      <td>12383446.0</td>\n      <td>7.0</td>\n      <td>6.9</td>\n      <td>0.479</td>\n      <td>10.9</td>\n    </tr>\n    <tr>\n      <th>13</th>\n      <td>2001</td>\n      <td>45.3</td>\n      <td>686</td>\n      <td>25</td>\n      <td>1.72</td>\n      <td>0.000000</td>\n      <td>76</td>\n      <td>529</td>\n      <td>25.9</td>\n      <td>39</td>\n      <td>76</td>\n      <td>6.16</td>\n      <td>75</td>\n      <td>42.1</td>\n      <td>548.587312</td>\n      <td>12366165.0</td>\n      <td>1.6</td>\n      <td>1.7</td>\n      <td>0.427</td>\n      <td>9.8</td>\n    </tr>\n    <tr>\n      <th>12</th>\n      <td>2002</td>\n      <td>44.8</td>\n      <td>73</td>\n      <td>25</td>\n      <td>4.43</td>\n      <td>0.000000</td>\n      <td>73</td>\n      <td>304</td>\n      <td>26.3</td>\n      <td>40</td>\n      <td>73</td>\n      <td>6.53</td>\n      <td>71</td>\n      <td>39.8</td>\n      <td>57.348340</td>\n      <td>125525.0</td>\n      <td>1.2</td>\n      <td>1.3</td>\n      <td>0.427</td>\n      <td>10.0</td>\n    </tr>\n    <tr>\n      <th>10</th>\n      <td>2004</td>\n      <td>44.3</td>\n      <td>723</td>\n      <td>27</td>\n      <td>4.36</td>\n      <td>0.000000</td>\n      <td>68</td>\n      <td>31</td>\n      <td>27.1</td>\n      <td>42</td>\n      <td>67</td>\n      <td>7.13</td>\n      <td>65</td>\n      <td>33.6</td>\n      <td>454.366654</td>\n      <td>12777511.0</td>\n      <td>9.4</td>\n      <td>9.4</td>\n      <td>0.407</td>\n      <td>9.2</td>\n    </tr>\n  </tbody>\n</table>\n<p>362 rows × 20 columns</p>\n</div>"
     },
     "execution_count": 109,
     "metadata": {},
     "output_type": "execute_result"
    }
   ],
   "source": [
    "testing_data"
   ]
  },
  {
   "cell_type": "code",
   "execution_count": 110,
   "id": "important-grove",
   "metadata": {},
   "outputs": [
    {
     "data": {
      "text/plain": "array([59.9, 58.1, 57.3, ..., 44.5, 46. , 59.2])"
     },
     "execution_count": 110,
     "metadata": {},
     "output_type": "execute_result"
    }
   ],
   "source": [
    "# Seperate training X and Y values\n",
    "train_X = training_data.iloc[:, 2:20].values\n",
    "train_Y = training_data.iloc[:, 1].values\n",
    "train_Y"
   ]
  },
  {
   "cell_type": "code",
   "execution_count": 111,
   "id": "24b2aa58",
   "metadata": {
    "pycharm": {
     "name": "#%%\n"
    }
   },
   "outputs": [
    {
     "data": {
      "text/plain": "array([[2.68e+02, 6.60e+01, 1.00e-02, ..., 1.77e+01, 4.70e-01, 9.90e+00],\n       [2.87e+02, 8.00e+01, 3.00e-02, ..., 1.89e+01, 4.33e-01, 8.70e+00],\n       [2.95e+02, 8.40e+01, 3.00e-02, ..., 1.93e+01, 4.05e-01, 8.10e+00],\n       ...,\n       [7.15e+02, 2.60e+01, 4.06e+00, ..., 9.90e+00, 4.18e-01, 9.50e+00],\n       [6.65e+02, 2.40e+01, 1.68e+00, ..., 1.12e+01, 4.34e-01, 9.80e+00],\n       [3.71e+02, 2.30e+01, 6.50e+00, ..., 5.70e+00, 4.98e-01, 1.03e+01]])"
     },
     "execution_count": 111,
     "metadata": {},
     "output_type": "execute_result"
    }
   ],
   "source": [
    "train_X"
   ]
  },
  {
   "cell_type": "code",
   "execution_count": 112,
   "id": "cef65bf4",
   "metadata": {
    "pycharm": {
     "name": "#%%\n"
    }
   },
   "outputs": [
    {
     "name": "stdout",
     "output_type": "stream",
     "text": [
      "[56.83423171 57.36694278 66.66270244 59.25690451 73.01201334 72.79696915\n",
      " 73.05848738 76.65518401 72.3333399  72.51397399 73.18680659 52.87358463\n",
      " 53.25180471 74.90820539 76.7330973  75.59653627 72.85966909 72.75330312\n",
      " 72.91553927 83.24900507 83.07256019 81.90381009 79.33722727 80.14117713\n",
      " 79.45015386 71.32555826 71.50968509 71.10425134 66.4055773  67.81018472\n",
      " 68.2400269  67.6904587  67.71051929 68.04031385 81.28892518 79.67322893\n",
      " 82.67039075 69.42744924 69.0994637  69.49021825 56.64882874 56.53594601\n",
      " 56.95883454 67.18763926 62.04810358 63.17988975 71.63026069 72.49916666\n",
      " 73.40000491 48.19249063 48.48039836 52.13700906 72.3403869  72.77791536\n",
      " 73.18778427 73.70427045 73.20928168 73.09592079 57.54086574 56.71635574\n",
      " 55.31940663 55.2916856  54.72055685 71.76999336 71.40642633 71.54450486\n",
      " 66.65891228 64.90016276 55.55542841 55.62807023 81.30318554 82.12040398\n",
      " 82.74515491 51.11563348 51.90187159 51.81891359 54.61246892 79.17152952\n",
      " 78.34999183 71.89515495 71.81232332 72.27549378 72.46645763 72.72376356\n",
      " 73.18916791 61.61850607 61.22011245 62.10744976 74.47773927 75.2382902\n",
      " 76.54352509 76.93435513 77.12901996 77.87280745 78.39332306 79.25320204\n",
      " 61.52238506 61.43811472 70.23128329 70.34784915 68.61925803 73.37066298\n",
      " 73.11931465 73.44927963 68.78699934 70.84363532 70.29451558 58.13694189\n",
      " 57.45481628 73.95039168 74.52611774 74.83746507 58.47496887 58.30084574\n",
      " 68.35940713 69.10448434 68.64172405 80.4348646  80.92860151 81.10547626\n",
      " 61.61853334 61.40244818 72.88015346 72.7498369  73.34919236 81.17446632\n",
      " 81.11723204 80.67640847 56.4231901  58.63049048 58.9399019  78.40161763\n",
      " 79.04106893 80.17977674 72.72655186 70.99148911 57.14829376 55.26012206\n",
      " 57.13649464 57.57402409 65.62794607 65.75857539 65.8361894  62.67439694\n",
      " 69.65438093 69.62920461 71.86217476 65.01934976 66.64670294 66.8044398\n",
      " 67.1659963  67.29177817 67.27365287 69.12857978 66.23651277 66.81682504\n",
      " 82.5163501  81.06204175 81.06690891 81.68295496 80.64992063 80.93488273\n",
      " 83.60076443 72.40455843 73.14171797 73.36368601 73.62577173 73.76354444\n",
      " 73.72121035 64.67440774 65.02203692 64.98572999 51.16644805 52.63989174\n",
      " 53.6580075  65.77166686 66.1011731  67.42369958 69.50547458 69.81963659\n",
      " 74.67222983 72.32471835 71.76583552 72.6874138  46.32565984 47.15532621\n",
      " 47.18351084 60.18404458 58.99290671 72.72636512 72.81032206 72.27107491\n",
      " 78.8069164  79.17637492 79.80556872 59.36435524 60.17596005 61.76215303\n",
      " 47.10814648 47.86022279 48.63764937 73.37797809 73.29427254 73.99322428\n",
      " 72.76662881 72.90546646 73.05327498 56.25618169 56.39262872 56.28601057\n",
      " 78.06924174 78.71620562 79.04691566 62.65597244 63.29483308 71.35563207\n",
      " 70.74547922 72.40531293 74.12992418 74.58669989 75.3351886  64.46423452\n",
      " 64.9478788  64.7282278  75.52633004 74.95135155 68.85610671 69.12683286\n",
      " 71.97760385 51.75259085 51.79694053 51.47869254 64.69579569 64.18366704\n",
      " 64.93278118 63.39606674 65.48481357 66.30758474 67.42836739 81.90271622\n",
      " 70.46648237 71.38803989 71.79386991 58.6643089  60.29716657 54.58350727\n",
      " 52.01911049 65.39858071 66.4312402  65.59331884 74.71902933 74.80421174\n",
      " 75.40967601 59.99156231 60.35946956 61.65971192 72.79272342 73.01912849\n",
      " 73.17001642 73.47019242 73.64642173 73.80759576 67.55304364 67.68018259\n",
      " 67.61943253 74.12577066 74.38575076 74.60556332 77.63881066 77.71470509\n",
      " 78.10714727 71.636649   71.65252675 72.4683749  66.28413775 66.3518076\n",
      " 66.65322887 55.4471367  55.87880802 55.8105063  73.69451618 73.85188409\n",
      " 73.87478161 62.78543701 62.68748001 64.84114926 60.52412649 61.63850861\n",
      " 61.96435937 74.22234648 74.13630616 74.10420165 70.85663924 71.43855634\n",
      " 71.334208   52.51448385 52.11607227 66.15240728 67.325673   67.99878282\n",
      " 56.65187503 55.53629638 54.41321907 80.13539904 81.34007426 82.65685631\n",
      " 69.70989147 73.84453464 73.84995962 70.78340356 69.63364577 47.88516097\n",
      " 47.64293741 47.17726404 81.95652314 72.62439061 72.67798121 66.77780817\n",
      " 67.36724258 66.96164879 69.71031233 69.83508039 70.50639315 67.78404246\n",
      " 67.1916972  59.94206951 58.36023861 72.72233508 72.78379738 72.97382309\n",
      " 70.0168296  71.34339963 70.65214058 73.25214856 72.3486496  73.38585488\n",
      " 72.72664856 73.37607613 73.24917665 64.8758067  64.96246446 63.67687156\n",
      " 54.48430243 53.76139417 54.27214513 67.32204642 67.59464703 67.81057547\n",
      " 75.98637133 75.93958509 76.41170373 67.70119244 67.81321379 67.96637855\n",
      " 67.67148418 68.29169017 68.91179466 51.78713639 50.67148611 47.40144236\n",
      " 48.71603582 45.64483259]\n"
     ]
    }
   ],
   "source": [
    "#Train Model\n",
    "regressor = RandomForestRegressor(n_estimators = 300, max_leaf_nodes = 150, bootstrap = True)\n",
    "# Fit the regressor with x and y data\n",
    "regressor.fit(train_X, train_Y)\n",
    "# Load testing values\n",
    "test_X = testing_data.iloc[:, 2:20].values\n",
    "test_Y = testing_data.iloc[:, 1].values\n",
    "# Predict with testing X\n",
    "predict_Y = regressor.predict(test_X)\n",
    "print(predict_Y)"
   ]
  },
  {
   "cell_type": "code",
   "execution_count": 113,
   "id": "0755ecfe",
   "metadata": {
    "pycharm": {
     "name": "#%%\n"
    }
   },
   "outputs": [
    {
     "data": {
      "text/plain": "array([[3.16e+02, 8.80e+01, 1.00e-02, ..., 2.40e+00, 3.40e-01, 5.90e+00],\n       [2.95e+02, 8.70e+01, 1.00e-02, ..., 1.99e+01, 3.73e-01, 6.50e+00],\n       [3.00e+00, 8.80e+01, 1.00e-02, ..., 2.20e+00, 3.41e-01, 6.20e+00],\n       ...,\n       [6.86e+02, 2.50e+01, 1.72e+00, ..., 1.70e+00, 4.27e-01, 9.80e+00],\n       [7.30e+01, 2.50e+01, 4.43e+00, ..., 1.30e+00, 4.27e-01, 1.00e+01],\n       [7.23e+02, 2.70e+01, 4.36e+00, ..., 9.40e+00, 4.07e-01, 9.20e+00]])"
     },
     "execution_count": 113,
     "metadata": {},
     "output_type": "execute_result"
    }
   ],
   "source": [
    "test_X"
   ]
  },
  {
   "cell_type": "code",
   "execution_count": 114,
   "id": "a9238945",
   "metadata": {
    "pycharm": {
     "name": "#%%\n"
    }
   },
   "outputs": [
    {
     "data": {
      "text/plain": "array([55.3, 56.7, 56.2, 59.5, 73.6, 72.8, 73.3, 76.9, 72.9, 73.4, 73.8,\n       49.6, 49.1, 74.1, 74.7, 74.9, 72.6, 72.6, 73. , 79.9, 86. , 81. ,\n       78.6, 78.7, 79.3, 67.8, 68.4, 68.4, 67.3, 67.8, 68.2, 67.7, 67.2,\n       68.2, 78. , 78. , 78.8, 68.2, 68.5, 68.7, 55.8, 56.1, 56.5, 61.7,\n       62.5, 64.2, 75. , 75.7, 75.4, 46.7, 46. , 48.1, 71. , 71.4, 72. ,\n       71.6, 71.8, 72.2, 57.5, 56.1, 53.4, 54.1, 54.8, 71.1, 71.4, 71.8,\n       66.6, 65.6, 53.6, 53.3, 80. , 81. , 85. , 49.2, 53. , 51.8, 57. ,\n       79.1, 79.6, 72.2, 72.7, 73.5, 71.5, 71.8, 72.8, 59.8, 60. , 63. ,\n       77.5, 78.3, 77.7, 76.6, 76.3, 78.2, 78.4, 78.6, 61.3, 69. , 71.2,\n       71.4, 69.3, 73.4, 73.6, 74.4, 68.9, 73. , 70. , 59.1, 58.8, 72.8,\n       73. , 73. , 61.8, 68. , 67.8, 67.9, 68.1, 79. , 79.2, 82. , 61.6,\n       61.4, 73. , 71.7, 72.3, 78.3, 78.4, 79.1, 57.9, 58.3, 58.9, 78.7,\n       79. , 79.2, 75. , 69.7, 57.8, 57.3, 56.7, 57.6, 65.3, 65.1, 65. ,\n       62.7, 71.3, 71.6, 72.2, 64.4, 64.8, 65.2, 66.5, 66.7, 65.3, 66.8,\n       64.7, 65.9, 84. , 79.3, 79.3, 81. , 79.8, 80. , 89. , 73.3, 73.5,\n       74. , 71.9, 72.1, 72.5, 64.4, 64.7, 64.7, 52.4, 53. , 54.1, 64.3,\n       64.6, 64.8, 69.9, 73. , 71. , 73. , 73.2, 73.7, 44.8, 44.5, 45.3,\n       67. , 59.2, 71.2, 71.4, 71.6, 78. , 78.3, 78.7, 59.9, 64. , 69. ,\n       44.6, 45.1, 46. , 72.7, 72.9, 73.2, 78. , 71.8, 73.4, 52.8, 53.6,\n       54.3, 78.7, 79. , 79.3, 61.2, 69. , 71.5, 71.5, 71.9, 75. , 75. ,\n       75.4, 63.2, 63.8, 64. , 75.3, 74.6, 69. , 69.5, 72. , 49.8, 54. ,\n       58. , 63.5, 63.9, 64.2, 64.3, 64.7, 65.4, 66. , 81.1, 73. , 75. ,\n       71. , 58.2, 63. , 55. , 49.8, 63.7, 62.9, 64.2, 75.7, 75.8, 75.8,\n       59.1, 59.3, 59.9, 71.9, 72.1, 72.3, 72.2, 72.8, 74.2, 66.8, 66.8,\n       67.3, 74.2, 74.5, 74.9, 76.9, 77.2, 78. , 78. , 77. , 71.7, 64.8,\n       64.9, 65. , 52. , 53.4, 55.3, 75. , 76. , 71.4, 63.8, 64.3, 64.7,\n       65. , 61.3, 62.1, 73. , 73.6, 73.8, 72. , 72.1, 72.1, 48.1, 47.1,\n       66.2, 66.5, 67.1, 56. , 54.9, 53.7, 79.4, 79.5, 81. , 69.1, 74.2,\n       73.8, 69.5, 69.3, 47.1, 46.4, 45.6, 81.7, 73. , 72.8, 65.2, 65.9,\n       65.5, 71.2, 71.4, 71.6, 67.4, 66.6, 58.9, 56.7, 71.8, 71.9, 72.2,\n       69.3, 69.4, 69.5, 73.2, 73.5, 74. , 78. , 71.2, 72. , 63.4, 63.5,\n       63.3, 51. , 51.3, 53.2, 67.7, 67.6, 67.4, 75.2, 75.4, 75.4, 67.2,\n       67.8, 67.3, 69.1, 69.3, 69.6, 52.6, 58. , 45.3, 44.8, 44.3])"
     },
     "execution_count": 114,
     "metadata": {},
     "output_type": "execute_result"
    }
   ],
   "source": [
    "test_Y"
   ]
  },
  {
   "cell_type": "code",
   "execution_count": 115,
   "id": "3c05682b",
   "metadata": {
    "pycharm": {
     "name": "#%%\n"
    }
   },
   "outputs": [
    {
     "name": "stdout",
     "output_type": "stream",
     "text": [
      "Average baseline error:  32.38\n"
     ]
    }
   ],
   "source": [
    "#basline estimate\n",
    "# The baseline predictions are the historical averages\n",
    "baseline_preds = testing_data.iloc[:, 8:9].values\n",
    "# Baseline errors, and display average baseline error\n",
    "baseline_errors = abs(baseline_preds - test_Y)\n",
    "print('Average baseline error: ', round(np.mean(baseline_errors), 2))"
   ]
  },
  {
   "cell_type": "code",
   "execution_count": 116,
   "id": "8954ac93",
   "metadata": {
    "pycharm": {
     "name": "#%%\n"
    }
   },
   "outputs": [
    {
     "name": "stdout",
     "output_type": "stream",
     "text": [
      "Mean Absolute Error: 1.38 degrees.\n"
     ]
    }
   ],
   "source": [
    "# Use the forest's predict method on the test data\n",
    "predictions = regressor.predict(test_X)\n",
    "# Calculate the absolute errors\n",
    "errors = abs(predictions - test_Y)\n",
    "# Print out the mean absolute error (mae)\n",
    "print('Mean Absolute Error:', round(np.mean(errors), 2), 'degrees.')"
   ]
  },
  {
   "cell_type": "code",
   "execution_count": 117,
   "id": "ba1c2a22",
   "metadata": {
    "pycharm": {
     "name": "#%%\n"
    }
   },
   "outputs": [
    {
     "name": "stdout",
     "output_type": "stream",
     "text": [
      "Accuracy: 97.86 %.\n"
     ]
    }
   ],
   "source": [
    "#Determine Performance Metrics\n",
    "# Calculate mean absolute percentage error\n",
    "feature = 100 * (errors / predict_Y)\n",
    "# Calculate and display accuracy\n",
    "accuracy = 100 - np.mean(feature)\n",
    "print('Accuracy:', round(accuracy, 2), '%.')"
   ]
  },
  {
   "cell_type": "code",
   "execution_count": 118,
   "id": "eced860a",
   "metadata": {
    "pycharm": {
     "name": "#%%\n"
    }
   },
   "outputs": [
    {
     "name": "stdout",
     "output_type": "stream",
     "text": [
      "Variable:                   16 Importance: 0.56\n",
      "Variable:                   11 Importance: 0.25\n",
      "Variable:                    0 Importance: 0.11\n",
      "Variable:                    2 Importance: 0.01\n",
      "Variable:                    6 Importance: 0.01\n",
      "Variable:                    9 Importance: 0.01\n",
      "Variable:                   14 Importance: 0.01\n",
      "Variable:                   15 Importance: 0.01\n",
      "Variable:                   17 Importance: 0.01\n",
      "Variable:                    1 Importance: 0.0\n",
      "Variable:                    3 Importance: 0.0\n",
      "Variable:                    4 Importance: 0.0\n",
      "Variable:                    5 Importance: 0.0\n",
      "Variable:                    7 Importance: 0.0\n",
      "Variable:                    8 Importance: 0.0\n",
      "Variable:                   10 Importance: 0.0\n",
      "Variable:                   12 Importance: 0.0\n",
      "Variable:                   13 Importance: 0.0\n"
     ]
    }
   ],
   "source": [
    "# Get numerical feature importances\n",
    "importances = list(regressor.feature_importances_)\n",
    "# List of tuples with variable and importance\n",
    "feature_importances = [(feature, round(importance, 2)) for feature, importance in zip(testing_data, importances)]\n",
    "# Sort the feature importances by most important first\n",
    "feature_importances = sorted(feature_importances, key = lambda x: x[1], reverse = True)\n",
    "# Print out the feature and importances\n",
    "[print('Variable: {:20} Importance: {}'.format(*pair)) for pair in feature_importances];"
   ]
  },
  {
   "cell_type": "code",
   "execution_count": 119,
   "id": "0356118d",
   "metadata": {
    "pycharm": {
     "name": "#%%\n"
    }
   },
   "outputs": [],
   "source": [
    "train_important = training_data.iloc[:, 11:17].values\n",
    "test_important = testing_data.iloc[:, 11:17].values\n",
    "updated_testing = testing_data.iloc[:, 11:17]"
   ]
  },
  {
   "cell_type": "code",
   "execution_count": 120,
   "id": "3cd56408",
   "metadata": {
    "pycharm": {
     "name": "#%%\n"
    }
   },
   "outputs": [
    {
     "name": "stdout",
     "output_type": "stream",
     "text": [
      "Variable:                   11 Importance: 0.11\n",
      "Variable:                   13 Importance: 0.01\n",
      "Variable:                   12 Importance: 0.0\n",
      "Variable:                   14 Importance: 0.0\n",
      "Variable:                   15 Importance: 0.0\n",
      "Variable:                   16 Importance: 0.0\n"
     ]
    }
   ],
   "source": [
    "# Get numerical feature importances\n",
    "importances = list(regressor.feature_importances_)\n",
    "# List of tuples with variable and importance\n",
    "feature_importances = [(feature, round(importance, 2)) for feature, importance in zip(updated_testing, importances)]\n",
    "# Sort the feature importances by most important first\n",
    "feature_importances = sorted(feature_importances, key = lambda x: x[1], reverse = True)\n",
    "# Print out the feature and importances\n",
    "[print('Variable: {:20} Importance: {}'.format(*pair)) for pair in feature_importances];"
   ]
  },
  {
   "cell_type": "code",
   "execution_count": 121,
   "id": "9e27e732",
   "metadata": {
    "pycharm": {
     "name": "#%%\n"
    }
   },
   "outputs": [
    {
     "name": "stdout",
     "output_type": "stream",
     "text": [
      "Mean Absolute Error: 2.24 degrees.\n",
      "Accuracy: 96.55 %.\n"
     ]
    }
   ],
   "source": [
    "# New random forest with only the two most important variables\n",
    "rf_most_important = RandomForestRegressor(n_estimators = 300, max_leaf_nodes = 150, bootstrap = True)\n",
    "# Train the random forest\n",
    "rf_most_important.fit(train_important, train_Y)\n",
    "# Make predictions and determine the error\n",
    "predictions = rf_most_important.predict(test_important)\n",
    "errors = abs(predictions - test_Y)\n",
    "# Display the performance metrics\n",
    "print('Mean Absolute Error:', round(np.mean(errors), 2), 'degrees.')\n",
    "mape = np.mean(100 * (errors / test_Y))\n",
    "accuracy = 100 - mape\n",
    "print('Accuracy:', round(accuracy, 2), '%.')"
   ]
  },
  {
   "cell_type": "code",
   "execution_count": 122,
   "id": "a985c98a",
   "metadata": {
    "pycharm": {
     "name": "#%%\n"
    }
   },
   "outputs": [
    {
     "name": "stdout",
     "output_type": "stream",
     "text": [
      "[0, 1, 2, 3, 4, 5, 6, 7, 8, 9, 10, 11, 12, 13, 14, 15, 16, 17]\n"
     ]
    },
    {
     "ename": "ValueError",
     "evalue": "The number of FixedLocator locations (18), usually from a call to set_ticks, does not match the number of ticklabels (20).",
     "output_type": "error",
     "traceback": [
      "\u001B[1;31m---------------------------------------------------------------------------\u001B[0m",
      "\u001B[1;31mValueError\u001B[0m                                Traceback (most recent call last)",
      "Input \u001B[1;32mIn [122]\u001B[0m, in \u001B[0;36m<cell line: 8>\u001B[1;34m()\u001B[0m\n\u001B[0;32m      4\u001B[0m \u001B[38;5;28mprint\u001B[39m(x_value)\n\u001B[0;32m      6\u001B[0m plt\u001B[38;5;241m.\u001B[39mbar(x_value, importances, orientation \u001B[38;5;241m=\u001B[39m \u001B[38;5;124m'\u001B[39m\u001B[38;5;124mvertical\u001B[39m\u001B[38;5;124m'\u001B[39m)\n\u001B[1;32m----> 8\u001B[0m \u001B[43mplt\u001B[49m\u001B[38;5;241;43m.\u001B[39;49m\u001B[43mxticks\u001B[49m\u001B[43m(\u001B[49m\u001B[43mx_value\u001B[49m\u001B[43m,\u001B[49m\u001B[43m \u001B[49m\u001B[43mtesting_data\u001B[49m\u001B[43m,\u001B[49m\u001B[43m \u001B[49m\u001B[43mrotation\u001B[49m\u001B[43m \u001B[49m\u001B[38;5;241;43m=\u001B[39;49m\u001B[43m \u001B[49m\u001B[38;5;241;43m6\u001B[39;49m\u001B[43m)\u001B[49m\n\u001B[0;32m     10\u001B[0m plt\u001B[38;5;241m.\u001B[39mylabel(\u001B[38;5;124m'\u001B[39m\u001B[38;5;124mimportance\u001B[39m\u001B[38;5;124m'\u001B[39m);\n\u001B[0;32m     11\u001B[0m plt\u001B[38;5;241m.\u001B[39mxlable(\u001B[38;5;124m'\u001B[39m\u001B[38;5;124mVariable\u001B[39m\u001B[38;5;124m'\u001B[39m);\n",
      "File \u001B[1;32mc:\\users\\xu842\\pycharmprojects\\leetcode2021python\\venv\\lib\\site-packages\\matplotlib\\pyplot.py:1816\u001B[0m, in \u001B[0;36mxticks\u001B[1;34m(ticks, labels, **kwargs)\u001B[0m\n\u001B[0;32m   1814\u001B[0m         l\u001B[38;5;241m.\u001B[39mupdate(kwargs)\n\u001B[0;32m   1815\u001B[0m \u001B[38;5;28;01melse\u001B[39;00m:\n\u001B[1;32m-> 1816\u001B[0m     labels \u001B[38;5;241m=\u001B[39m ax\u001B[38;5;241m.\u001B[39mset_xticklabels(labels, \u001B[38;5;241m*\u001B[39m\u001B[38;5;241m*\u001B[39mkwargs)\n\u001B[0;32m   1818\u001B[0m \u001B[38;5;28;01mreturn\u001B[39;00m locs, labels\n",
      "File \u001B[1;32mc:\\users\\xu842\\pycharmprojects\\leetcode2021python\\venv\\lib\\site-packages\\matplotlib\\axes\\_base.py:75\u001B[0m, in \u001B[0;36m_axis_method_wrapper.__set_name__.<locals>.wrapper\u001B[1;34m(self, *args, **kwargs)\u001B[0m\n\u001B[0;32m     74\u001B[0m \u001B[38;5;28;01mdef\u001B[39;00m \u001B[38;5;21mwrapper\u001B[39m(\u001B[38;5;28mself\u001B[39m, \u001B[38;5;241m*\u001B[39margs, \u001B[38;5;241m*\u001B[39m\u001B[38;5;241m*\u001B[39mkwargs):\n\u001B[1;32m---> 75\u001B[0m     \u001B[38;5;28;01mreturn\u001B[39;00m get_method(\u001B[38;5;28mself\u001B[39m)(\u001B[38;5;241m*\u001B[39margs, \u001B[38;5;241m*\u001B[39m\u001B[38;5;241m*\u001B[39mkwargs)\n",
      "File \u001B[1;32mc:\\users\\xu842\\pycharmprojects\\leetcode2021python\\venv\\lib\\site-packages\\matplotlib\\axis.py:1798\u001B[0m, in \u001B[0;36mAxis._set_ticklabels\u001B[1;34m(self, labels, fontdict, minor, **kwargs)\u001B[0m\n\u001B[0;32m   1796\u001B[0m \u001B[38;5;28;01mif\u001B[39;00m fontdict \u001B[38;5;129;01mis\u001B[39;00m \u001B[38;5;129;01mnot\u001B[39;00m \u001B[38;5;28;01mNone\u001B[39;00m:\n\u001B[0;32m   1797\u001B[0m     kwargs\u001B[38;5;241m.\u001B[39mupdate(fontdict)\n\u001B[1;32m-> 1798\u001B[0m \u001B[38;5;28;01mreturn\u001B[39;00m \u001B[38;5;28mself\u001B[39m\u001B[38;5;241m.\u001B[39mset_ticklabels(labels, minor\u001B[38;5;241m=\u001B[39mminor, \u001B[38;5;241m*\u001B[39m\u001B[38;5;241m*\u001B[39mkwargs)\n",
      "File \u001B[1;32mc:\\users\\xu842\\pycharmprojects\\leetcode2021python\\venv\\lib\\site-packages\\matplotlib\\axis.py:1720\u001B[0m, in \u001B[0;36mAxis.set_ticklabels\u001B[1;34m(self, ticklabels, minor, **kwargs)\u001B[0m\n\u001B[0;32m   1716\u001B[0m \u001B[38;5;28;01mif\u001B[39;00m \u001B[38;5;28misinstance\u001B[39m(locator, mticker\u001B[38;5;241m.\u001B[39mFixedLocator):\n\u001B[0;32m   1717\u001B[0m     \u001B[38;5;66;03m# Passing [] as a list of ticklabels is often used as a way to\u001B[39;00m\n\u001B[0;32m   1718\u001B[0m     \u001B[38;5;66;03m# remove all tick labels, so only error for > 0 ticklabels\u001B[39;00m\n\u001B[0;32m   1719\u001B[0m     \u001B[38;5;28;01mif\u001B[39;00m \u001B[38;5;28mlen\u001B[39m(locator\u001B[38;5;241m.\u001B[39mlocs) \u001B[38;5;241m!=\u001B[39m \u001B[38;5;28mlen\u001B[39m(ticklabels) \u001B[38;5;129;01mand\u001B[39;00m \u001B[38;5;28mlen\u001B[39m(ticklabels) \u001B[38;5;241m!=\u001B[39m \u001B[38;5;241m0\u001B[39m:\n\u001B[1;32m-> 1720\u001B[0m         \u001B[38;5;28;01mraise\u001B[39;00m \u001B[38;5;167;01mValueError\u001B[39;00m(\n\u001B[0;32m   1721\u001B[0m             \u001B[38;5;124m\"\u001B[39m\u001B[38;5;124mThe number of FixedLocator locations\u001B[39m\u001B[38;5;124m\"\u001B[39m\n\u001B[0;32m   1722\u001B[0m             \u001B[38;5;124mf\u001B[39m\u001B[38;5;124m\"\u001B[39m\u001B[38;5;124m (\u001B[39m\u001B[38;5;132;01m{\u001B[39;00m\u001B[38;5;28mlen\u001B[39m(locator\u001B[38;5;241m.\u001B[39mlocs)\u001B[38;5;132;01m}\u001B[39;00m\u001B[38;5;124m), usually from a call to\u001B[39m\u001B[38;5;124m\"\u001B[39m\n\u001B[0;32m   1723\u001B[0m             \u001B[38;5;124m\"\u001B[39m\u001B[38;5;124m set_ticks, does not match\u001B[39m\u001B[38;5;124m\"\u001B[39m\n\u001B[0;32m   1724\u001B[0m             \u001B[38;5;124mf\u001B[39m\u001B[38;5;124m\"\u001B[39m\u001B[38;5;124m the number of ticklabels (\u001B[39m\u001B[38;5;132;01m{\u001B[39;00m\u001B[38;5;28mlen\u001B[39m(ticklabels)\u001B[38;5;132;01m}\u001B[39;00m\u001B[38;5;124m).\u001B[39m\u001B[38;5;124m\"\u001B[39m)\n\u001B[0;32m   1725\u001B[0m     tickd \u001B[38;5;241m=\u001B[39m {loc: lab \u001B[38;5;28;01mfor\u001B[39;00m loc, lab \u001B[38;5;129;01min\u001B[39;00m \u001B[38;5;28mzip\u001B[39m(locator\u001B[38;5;241m.\u001B[39mlocs, ticklabels)}\n\u001B[0;32m   1726\u001B[0m     func \u001B[38;5;241m=\u001B[39m functools\u001B[38;5;241m.\u001B[39mpartial(\u001B[38;5;28mself\u001B[39m\u001B[38;5;241m.\u001B[39m_format_with_dict, tickd)\n",
      "\u001B[1;31mValueError\u001B[0m: The number of FixedLocator locations (18), usually from a call to set_ticks, does not match the number of ticklabels (20)."
     ]
    },
    {
     "data": {
      "text/plain": "<Figure size 432x288 with 1 Axes>",
      "image/png": "[encoded data removed]"
     },
     "metadata": {
      "needs_background": "light"
     },
     "output_type": "display_data"
    }
   ],
   "source": [
    "import matplotlib.pyplot as plt\n",
    "\n",
    "x_value = list(range(len(importances)))\n",
    "print(x_value)\n",
    "\n",
    "plt.bar(x_value, importances, orientation = 'vertical')\n",
    "\n",
    "plt.xticks(x_value, testing_data, rotation = 6)\n",
    "\n",
    "plt.ylabel('importance');\n",
    "plt.xlable('Variable');\n",
    "plt.title('Variable Importance');\n",
    "plt.show()"
   ]
  },
  {
   "cell_type": "code",
   "execution_count": 123,
   "id": "meaningful-reading",
   "metadata": {
    "pycharm": {
     "name": "#%%\n"
    }
   },
   "outputs": [
    {
     "name": "stdout",
     "output_type": "stream",
     "text": [
      "Loss percentage on testing set: 0.21265198620785974\n",
      "MSE loss on testing set: 4.061887002513058\n",
      "Random forest regressor score: 0.9516112329004982\n"
     ]
    },
    {
     "data": {
      "text/plain": "<Figure size 432x288 with 1 Axes>",
      "image/png": "[encoded data removed]"
     },
     "metadata": {
      "needs_background": "light"
     },
     "output_type": "display_data"
    }
   ],
   "source": [
    "losses = []\n",
    "# calculate the percentage\n",
    "for i in range(len(test_Y)):\n",
    "    dif = (abs(float(test_Y[i] - predict_Y[i])) / float(test_Y[i])) * 100\n",
    "    losses.append(dif)\n",
    "# print(losses)\n",
    "plt.plot(losses)\n",
    "#calculate total value of loss\n",
    "totalValue = np.sum(losses) % 100\n",
    "print(\"Loss percentage on testing set: \" + str(totalValue / len(losses)))\n",
    "errors = mean_squared_error(test_Y, predict_Y)\n",
    "print(\"MSE loss on testing set: \" + str(mean_squared_error(test_Y, predict_Y)))\n",
    "print(\"Random forest regressor score: \" + str(regressor.score(test_X, test_Y)))"
   ]
  },
  {
   "cell_type": "code",
   "execution_count": null,
   "outputs": [],
   "source": [],
   "metadata": {
    "collapsed": false,
    "pycharm": {
     "name": "#%%\n"
    }
   }
  }
 ],
 "metadata": {
  "kernelspec": {
   "display_name": "Python 3 (ipykernel)",
   "language": "python",
   "name": "python3"
  },
  "language_info": {
   "codemirror_mode": {
    "name": "ipython",
    "version": 3
   },
   "file_extension": ".py",
   "mimetype": "text/x-python",
   "name": "python",
   "nbconvert_exporter": "python",
   "pygments_lexer": "ipython3",
   "version": "3.9.7"
  }
 },
 "nbformat": 4,
 "nbformat_minor": 5
}